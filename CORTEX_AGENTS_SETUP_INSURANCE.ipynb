{
 "cells": [
  {
   "cell_type": "code",
   "execution_count": null,
   "id": "3775908f-ca36-4846-8f38-5adca39217f2",
   "metadata": {
    "collapsed": false,
    "language": "python",
    "name": "IMPORTS"
   },
   "outputs": [],
   "source": [
    "import warnings\n",
    "warnings.filterwarnings(\"ignore\")\n",
    "import streamlit as st\n",
    "import pandas as pd\n",
    "from snowflake.snowpark.context import get_active_session\n",
    "from snowflake.snowpark.functions import col\n",
    "from snowflake.snowpark import types as T\n",
    "from snowflake.core import Root\n",
    "from snowflake.cortex import Complete\n",
    "session = get_active_session()"
   ]
  },
  {
   "cell_type": "markdown",
   "id": "a66bee02-de2d-4c96-92dc-2a683e8be305",
   "metadata": {
    "collapsed": false,
    "name": "OVERVIEW"
   },
   "source": [
    "# Insurance Claims Analysis with Cortex Agents\n",
    "In this notebook you will setup multiple Cortex Search and Cortex Analyst Services which will be used by Cortex Agents to answer user queries on unstructured and structured insurance data.\n",
    "![text](https://github.com/michaelgorkow/snowflake_cortex_agents_demo/blob/main/resources/cortex_agents_notebook_small.png?raw=true)"
   ]
  },
  {
   "cell_type": "markdown",
   "id": "a2cda5f3-3dc6-4609-bf2d-12d114adb9af",
   "metadata": {
    "collapsed": false,
    "name": "CORTEX_SEARCH1"
   },
   "source": [
    "# Setup the Cortex Search Service [Unstructured Data]\n",
    "\n",
    "We have some PDF and markdown documents in our stage **DOCUMENTS** that we want insurance analysts to be able to ask questions about.  \n",
    "To achieve this, we need to extract the contents of these files and make them searchable.\n",
    "\n",
    "## Extracting Content from Document Files\n",
    "\n",
    "### [`PARSE_DOCUMENT`](https://docs.snowflake.com/en/sql-reference/functions/parse_document-snowflake-cortex)  \n",
    "This function returns the extracted content from a document on a Snowflake stage as an **OBJECT** that contains JSON-encoded objects as strings.  \n",
    "\n",
    "It supports two types of extractions:  \n",
    "- **Optical Character Recognition (OCR)**  \n",
    "- **Layout Extraction**  \n",
    "\n",
    "### [`SPLIT_TEXT_RECURSIVE_CHARACTER`](https://docs.snowflake.com/en/sql-reference/functions/split_text_recursive_character-snowflake-cortex)  \n",
    "The `SPLIT_TEXT_RECURSIVE_CHARACTER` function splits a string into shorter strings recursively. It is useful for preprocessing text to be used with text embedding or search indexing functions."
   ]
  },
  {
   "cell_type": "code",
   "execution_count": null,
   "id": "dc3cb35b-78ee-4091-97c2-0b05443d8e52",
   "metadata": {
    "collapsed": false,
    "language": "sql",
    "name": "CORTEX_SEARCH2"
   },
   "outputs": [],
   "source": [
    "-- List documents in stage\n",
    "SELECT * FROM DIRECTORY('@DOCUMENTS');"
   ]
  },
  {
   "cell_type": "code",
   "execution_count": null,
   "id": "fe0d2d82-16f6-4552-bc50-d56f91ce30d3",
   "metadata": {
    "collapsed": false,
    "language": "sql",
    "name": "CORTEX_SEARCH3"
   },
   "outputs": [],
   "source": [
    "-- Layout extraction for PDF and markdown documents\n",
    "CREATE OR REPLACE TABLE RAW_TEXT AS\n",
    "SELECT \n",
    "    RELATIVE_PATH,\n",
    "    TO_VARCHAR (\n",
    "        SNOWFLAKE.CORTEX.PARSE_DOCUMENT (\n",
    "            '@DOCUMENTS',\n",
    "            RELATIVE_PATH,\n",
    "            {'mode': 'LAYOUT'} ):content\n",
    "        ) AS EXTRACTED_LAYOUT \n",
    "FROM DIRECTORY ( '@DOCUMENTS' )\n",
    "WHERE RELATIVE_PATH LIKE '%.pdf' \n",
    "   OR RELATIVE_PATH LIKE '%.md';"
   ]
  },
  {
   "cell_type": "code",
   "execution_count": null,
   "id": "39358eab-7b18-4ecb-a92e-6e1d6b3e1a75",
   "metadata": {
    "collapsed": false,
    "language": "sql",
    "name": "CORTEX_SEARCH4"
   },
   "outputs": [],
   "source": [
    "-- Take a look at the extracted content\n",
    "SELECT RELATIVE_PATH, SUBSTR(EXTRACTED_LAYOUT, 1, 500) FROM RAW_TEXT;"
   ]
  },
  {
   "cell_type": "code",
   "execution_count": null,
   "id": "ee387f32-dc01-48f4-9b02-2c6aeb6bcc14",
   "metadata": {
    "collapsed": false,
    "language": "sql",
    "name": "CORTEX_SEARCH5"
   },
   "outputs": [],
   "source": [
    "-- Create a table with chunks of the extracted content\n",
    "CREATE OR REPLACE TABLE TEXT_CHUNKS AS\n",
    "SELECT\n",
    "    RELATIVE_PATH,\n",
    "    VALUE AS CHUNK,\n",
    "    SEQ AS CHUNK_NUM\n",
    "FROM RAW_TEXT,\n",
    "LATERAL FLATTEN( INPUT => SPLIT_TEXT_RECURSIVE_CHARACTER (EXTRACTED_LAYOUT, 4000, 200, '.?!', 3) );"
   ]
  },
  {
   "cell_type": "code",
   "execution_count": null,
   "id": "67d4f1af-1b71-478b-98c2-21aaefbdc4a4",
   "metadata": {
    "collapsed": false,
    "language": "sql",
    "name": "CORTEX_SEARCH6"
   },
   "outputs": [],
   "source": [
    "-- Take a look at the text chunks\n",
    "SELECT * FROM TEXT_CHUNKS ORDER BY RELATIVE_PATH, CHUNK_NUM LIMIT 3;"
   ]
  },
  {
   "cell_type": "markdown",
   "id": "e7be5fe9-ac0b-4ecc-9eb3-d9afbef94c84",
   "metadata": {
    "collapsed": false,
    "name": "CORTEX_SEARCH7"
   },
   "source": [
    "## Create Cortex Search Services\n",
    "\n",
    "In this step we create two search services:\n",
    "- `POLICY_DOCUMENTS_SEARCH`: For searching policy documentation\n",
    "- `CLAIM_FORMS_SEARCH`: For searching claim forms and adjustor reports\n",
    "\n",
    "A Snowflake Cortex Search service enables users to retrieve unstructured information by leveraging vector search technology. This implementation involves embedding content into vectors and then searching based on the semantic similarity between a query and the vectors."
   ]
  },
  {
   "cell_type": "code",
   "execution_count": null,
   "id": "9f84e9c1-42b4-44bd-aabd-29b4c40c0a46",
   "metadata": {
    "collapsed": false,
    "language": "sql",
    "name": "CORTEX_SEARCH8"
   },
   "outputs": [],
   "source": [
    "-- Create Cortex Search service for policy documents \n",
    "CREATE OR REPLACE SEARCH SERVICE POLICY_DOCUMENTS_SEARCH\n",
    "EXTERNAL_ACCESS_INTEGRATION = CORTEX_ACCESS\n",
    "COMPUTE_POOL = CORTEX_COMPUTE\n",
    "MAX_KB = 50\n",
    "CONTENT = (\n",
    "    SELECT RELATIVE_PATH as SOURCE, CHUNK as CONTENT\n",
    "    FROM   TEXT_CHUNKS\n",
    "    WHERE  STARTSWITH(RELATIVE_PATH,'POLICY_DOCUMENTS')\n",
    ");\n",
    "\n",
    "-- Wait for the search service to be ready\n",
    "CALL SYSTEM$WAIT(30);"
   ]
  },
  {
   "cell_type": "code",
   "execution_count": null,
   "id": "be21f0ab-6c73-4ca4-a67a-0ee8a47f1d1c",
   "metadata": {
    "collapsed": false,
    "language": "sql",
    "name": "CORTEX_SEARCH9"
   },
   "outputs": [],
   "source": [
    "-- Create Cortex Search service for claim forms\n",
    "CREATE OR REPLACE SEARCH SERVICE CLAIM_FORMS_SEARCH\n",
    "EXTERNAL_ACCESS_INTEGRATION = CORTEX_ACCESS\n",
    "COMPUTE_POOL = CORTEX_COMPUTE\n",
    "MAX_KB = 50\n",
    "CONTENT = (\n",
    "    SELECT RELATIVE_PATH as SOURCE, CHUNK as CONTENT\n",
    "    FROM   TEXT_CHUNKS\n",
    "    WHERE  STARTSWITH(RELATIVE_PATH,'CLAIM_FORMS')\n",
    ");\n",
    "\n",
    "-- Wait for the search service to be ready\n",
    "CALL SYSTEM$WAIT(30);"
   ]
  },
  {
   "cell_type": "code",
   "execution_count": null,
   "id": "24a17ead-5e48-4efc-a5a1-1d76cbcaea99",
   "metadata": {
    "collapsed": false,
    "language": "sql",
    "name": "CORTEX_SEARCH10"
   },
   "outputs": [],
   "source": [
    "-- List your search services\n",
    "SHOW SEARCH SERVICES;"
   ]
  },
  {
   "cell_type": "code",
   "execution_count": null,
   "id": "b22db60b-ecfd-4c2f-8dfe-254cf3e58d60",
   "metadata": {
    "collapsed": false,
    "language": "sql",
    "name": "CORTEX_SEARCH11"
   },
   "outputs": [],
   "source": [
    "-- Test search on policy documents (RAG example)\n",
    "SELECT\n",
    "    search,\n",
    "    content,\n",
    "    score,\n",
    "    source,\n",
    "    SUBSTR(source,POSITION(\"/\", source)+1) as document\n",
    "FROM TABLE(SEARCH(\n",
    "    'POLICY_DOCUMENTS_SEARCH',\n",
    "    'What is the deductible for comprehensive coverage?',\n",
    "    LIMIT => 3\n",
    "));\n"
   ]
  },
  {
   "cell_type": "markdown",
   "id": "da83b2b8-9b15-48eb-8aff-f19a3cd02b67",
   "metadata": {
    "collapsed": false,
    "name": "PREPARE_STRUCTURED1"
   },
   "source": [
    "# Setup Tables and Search Services for Structured Data\n",
    "\n",
    "Let's create some structured data to work with. We'll create tables for insurance claims data:\n",
    "\n",
    "- `POLICYHOLDER_DATA`: information about policyholders\n",
    "- `CLAIM_DATA`: information about insurance claims\n",
    "- `COVERAGE_TYPES`: information about different coverage types\n",
    "\n",
    "Then we'll create Search Services for each of these tables to enable semantic search on the structured data."
   ]
  },
  {
   "cell_type": "code",
   "execution_count": null,
   "id": "99d3e5ba-05a5-4e66-bbca-dcea0b1ea1d2",
   "metadata": {
    "collapsed": false,
    "language": "sql",
    "name": "PREPARE_STRUCTURED2"
   },
   "outputs": [],
   "source": [
    "-- Load the CSV data into tables\n",
    "CREATE OR REPLACE TABLE CUSTOMER_DATA AS \n",
    "SELECT * FROM @SNOWFLAKE_SAMPLE_DATA.TPCH_SF1.CUSTOMER LIMIT 0;  -- Just creating schema\n",
    "\n",
    "CREATE OR REPLACE TABLE CLAIM_DATA AS \n",
    "SELECT * FROM @SNOWFLAKE_SAMPLE_DATA.TPCH_SF1.ORDERS LIMIT 0;  -- Just creating schema\n",
    "\n",
    "CREATE OR REPLACE TABLE COVERAGE_TYPES AS \n",
    "SELECT * FROM @SNOWFLAKE_SAMPLE_DATA.TPCH_SF1.PART LIMIT 0;  -- Just creating schema\n",
    "\n",
    "-- Now load our actual data\n",
    "COPY INTO CUSTOMER_DATA FROM @DATA_STAGE/customer_data.csv;\n",
    "COPY INTO CLAIM_DATA FROM @DATA_STAGE/claim_data.csv;\n",
    "\n",
    "-- Create our coverage types data\n",
    "CREATE OR REPLACE TABLE COVERAGE_TYPES (\n",
    "    COVERAGE_ID NUMBER,\n",
    "    COVERAGE_TYPE VARCHAR,\n",
    "    DESCRIPTION VARCHAR,\n",
    "    BASE_PREMIUM NUMBER,\n",
    "    DEDUCTIBLE_OPTIONS ARRAY\n",
    ");\n",
    "\n",
    "INSERT INTO COVERAGE_TYPES VALUES\n",
    "(1, 'Comprehensive', 'Covers damage from non-collision incidents such as theft, vandalism, and natural disasters', 850, ARRAY_CONSTRUCT(250, 500, 1000)),\n",
    "(2, 'Collision', 'Covers damage to your vehicle from a collision with another vehicle or object', 1200, ARRAY_CONSTRUCT(500, 1000, 2000)),\n",
    "(3, 'Liability', 'Covers damage you cause to others and their property', 600, ARRAY_CONSTRUCT(0)),\n",
    "(4, 'Personal Injury', 'Covers medical expenses for you and your passengers', 450, ARRAY_CONSTRUCT(250, 500)),\n",
    "(5, 'Uninsured Motorist', 'Covers damages when the at-fault driver has no insurance', 350, ARRAY_CONSTRUCT(250, 500));"
   ]
  },
  {
   "cell_type": "code",
   "execution_count": null,
   "id": "c4841c60-e70b-4ede-a81e-c8b6bc4a01e6",
   "metadata": {
    "collapsed": false,
    "language": "sql",
    "name": "PREPARE_STRUCTURED3"
   },
   "outputs": [],
   "source": [
    "-- Check the structured data\n",
    "SELECT * FROM CUSTOMER_DATA LIMIT 5;"
   ]
  },
  {
   "cell_type": "code",
   "execution_count": null,
   "id": "9ad5acd5-8cd1-4eec-b0db-9a3a7b3a19c4",
   "metadata": {
    "collapsed": false,
    "language": "sql",
    "name": "PREPARE_STRUCTURED4"
   },
   "outputs": [],
   "source": [
    "-- Check the claims data\n",
    "SELECT * FROM CLAIM_DATA LIMIT 5;"
   ]
  },
  {
   "cell_type": "code",
   "execution_count": null,
   "id": "91b2eac4-2f40-4d4e-ac27-18f57d8c6731",
   "metadata": {
    "collapsed": false,
    "language": "sql",
    "name": "PREPARE_STRUCTURED5"
   },
   "outputs": [],
   "source": [
    "-- Check the coverage types data\n",
    "SELECT * FROM COVERAGE_TYPES;"
   ]
  },
  {
   "cell_type": "markdown",
   "id": "1f8df4b7-1183-4c13-bcb6-8ecc00682ffd",
   "metadata": {
    "collapsed": false,
    "name": "STRUCTURED_SEARCH1"
   },
   "source": [
    "## Create Cortex Search Services for Structured Data\n",
    "\n",
    "The Cortex Search service for structured data serves the purpose of enabling dynamic literal retrieval for the Cortex Analyst service. For example, when a user asks \"Show me claims for policyholder James Wilson\", the Cortex Analyst service needs to translate \"James Wilson\" into a specific policy number. The search service helps in retrieving such literals from structured data."
   ]
  },
  {
   "cell_type": "code",
   "execution_count": null,
   "id": "5d9ff2be-4e17-4ad9-9d6d-70eac7cc5b30",
   "metadata": {
    "collapsed": false,
    "language": "sql",
    "name": "STRUCTURED_SEARCH2"
   },
   "outputs": [],
   "source": [
    "-- Create a Search Service for Coverage Types\n",
    "CREATE OR REPLACE SEARCH SERVICE COVERAGE_TYPE_SEARCH\n",
    "EXTERNAL_ACCESS_INTEGRATION = CORTEX_ACCESS\n",
    "COMPUTE_POOL = CORTEX_COMPUTE\n",
    "CONTENT = (\n",
    "    SELECT \n",
    "        COVERAGE_TYPE || ': ' || DESCRIPTION as CONTENT,\n",
    "        TO_VARIANT({\n",
    "            'COVERAGE_ID': COVERAGE_ID, \n",
    "            'COVERAGE_TYPE': COVERAGE_TYPE,\n",
    "            'BASE_PREMIUM': BASE_PREMIUM\n",
    "        }) as ATTRIBUTES\n",
    "    FROM   COVERAGE_TYPES\n",
    ");\n",
    "\n",
    "-- Wait for the search service to be ready\n",
    "CALL SYSTEM$WAIT(30);"
   ]
  },
  {
   "cell_type": "code",
   "execution_count": null,
   "id": "bf9eabc5-39e1-418c-9ce8-9e40e38baf08",
   "metadata": {
    "collapsed": false,
    "language": "sql",
    "name": "STRUCTURED_SEARCH3"
   },
   "outputs": [],
   "source": [
    "-- Create a Search Service for Policyholder Information\n",
    "CREATE OR REPLACE SEARCH SERVICE POLICYHOLDER_SEARCH\n",
    "EXTERNAL_ACCESS_INTEGRATION = CORTEX_ACCESS\n",
    "COMPUTE_POOL = CORTEX_COMPUTE\n",
    "CONTENT = (\n",
    "    SELECT \n",
    "        INSURED_EDUCATION_LEVEL || ' ' || INSURED_OCCUPATION || ' (' || POLICY_NUMBER || ')' as CONTENT,\n",
    "        TO_VARIANT({\n",
    "            'POLICY_NUMBER': POLICY_NUMBER, \n",
    "            'AGE': AGE,\n",
    "            'INSURED_SEX': INSURED_SEX,\n",
    "            'POLICY_ANNUAL_PREMIUM': POLICY_ANNUAL_PREMIUM\n",
    "        }) as ATTRIBUTES\n",
    "    FROM CUSTOMER_DATA\n",
    ");\n",
    "\n",
    "-- Wait for the search service to be ready\n",
    "CALL SYSTEM$WAIT(30);"
   ]
  },
  {
   "cell_type": "code",
   "execution_count": null,
   "id": "ea6e0df1-b28a-47a4-977a-f2b1d6dc2fd0",
   "metadata": {
    "collapsed": false,
    "language": "sql",
    "name": "STRUCTURED_SEARCH4"
   },
   "outputs": [],
   "source": [
    "-- Create a Search Service for Incident Types\n",
    "CREATE OR REPLACE SEARCH SERVICE INCIDENT_TYPE_SEARCH\n",
    "EXTERNAL_ACCESS_INTEGRATION = CORTEX_ACCESS\n",
    "COMPUTE_POOL = CORTEX_COMPUTE\n",
    "CONTENT = (\n",
    "    SELECT DISTINCT\n",
    "        INCIDENT_TYPE as CONTENT,\n",
    "        TO_VARIANT({\n",
    "            'INCIDENT_TYPE': INCIDENT_TYPE\n",
    "        }) as ATTRIBUTES\n",
    "    FROM CLAIM_DATA\n",
    ");\n",
    "\n",
    "-- Wait for the search service to be ready\n",
    "CALL SYSTEM$WAIT(30);"
   ]
  },
  {
   "cell_type": "code",
   "execution_count": null,
   "id": "8e11f4cb-64c2-4bb2-a80c-f1dea54f6d34",
   "metadata": {
    "collapsed": false,
    "language": "sql",
    "name": "STRUCTURED_SEARCH5"
   },
   "outputs": [],
   "source": [
    "-- Let's test one of the search services\n",
    "SELECT *\n",
    "FROM TABLE(SEARCH(\n",
    "    'COVERAGE_TYPE_SEARCH',\n",
    "    'auto collision damage'\n",
    "));"
   ]
  },
  {
   "cell_type": "markdown",
   "id": "4a11f8ee-78ea-4d70-a79d-bd217ebc90b1",
   "metadata": {
    "collapsed": false,
    "name": "SEMANTIC_MODEL1"
   },
   "source": [
    "# Create Cortex Analyst Service\n",
    "\n",
    "The Cortex Analyst service uses a semantic model to translate natural language questions into SQL. The semantic model is a YAML file that describes the structure and relationships of your data in business terms.\n",
    "\n",
    "First, let's create and upload our insurance claims semantic model."
   ]
  },
  {
   "cell_type": "code",
   "execution_count": null,
   "id": "7c47bd71-e8ef-4e13-ab2a-c1f5cae60c4e",
   "metadata": {
    "collapsed": false,
    "language": "python",
    "name": "SEMANTIC_MODEL2"
   },
   "outputs": [],
   "source": [
    "!cat semantic_models/insurance_data.yaml"
   ]
  },
  {
   "cell_type": "code",
   "execution_count": null,
   "id": "ef84ae04-efd9-4c1a-a20e-fcb9b3d1f18d",
   "metadata": {
    "collapsed": false,
    "language": "sql",
    "name": "SEMANTIC_MODEL3"
   },
   "outputs": [],
   "source": [
    "-- Creating a stage to store the semantic model\n",
    "CREATE OR REPLACE STAGE SEMANTIC_MODEL_STAGE;"
   ]
  },
  {
   "cell_type": "code",
   "execution_count": null,
   "id": "beae0946-6507-469a-a5a5-fb2e3d3be02a",
   "metadata": {
    "collapsed": false,
    "language": "python",
    "name": "SEMANTIC_MODEL4"
   },
   "outputs": [],
   "source": [
    "# Upload the semantic model YAML file to the stage\n",
    "session.file.put('semantic_models/insurance_data.yaml', '@SEMANTIC_MODEL_STAGE/', auto_compress=False, overwrite=True)"
   ]
  },
  {
   "cell_type": "code",
   "execution_count": null,
   "id": "94e86c56-7ebb-42cb-a5a4-5d9d7a60c097",
   "metadata": {
    "collapsed": false,
    "language": "sql",
    "name": "SEMANTIC_MODEL5"
   },
   "outputs": [],
   "source": [
    "-- Check the files in the semantic model stage\n",
    "LIST @SEMANTIC_MODEL_STAGE;"
   ]
  },
  {
   "cell_type": "code",
   "execution_count": null,
   "id": "6bf3ab7a-b3c1-407c-996d-15d1f6066b4a",
   "metadata": {
    "collapsed": false,
    "language": "sql",
    "name": "SEMANTIC_MODEL6"
   },
   "outputs": [],
   "source": [
    "-- Create a Cortex Analyst Service using the semantic model\n",
    "CREATE OR REPLACE ANALYST SERVICE INSURANCE_CLAIMS_ANALYST\n",
    "EXTERNAL_ACCESS_INTEGRATION = CORTEX_ACCESS\n",
    "COMPUTE_POOL = CORTEX_COMPUTE\n",
    "MODEL_LOCATION = '@SEMANTIC_MODEL_STAGE/insurance_data.yaml';\n",
    "\n",
    "-- Wait for the analyst service to be ready\n",
    "CALL SYSTEM$WAIT(30);"
   ]
  },
  {
   "cell_type": "code",
   "execution_count": null,
   "id": "63da0af4-3e52-4dc1-9cd8-1b00aacf5dcd",
   "metadata": {
    "collapsed": false,
    "language": "sql",
    "name": "SEMANTIC_MODEL7"
   },
   "outputs": [],
   "source": [
    "-- List the analyst services\n",
    "SHOW ANALYST SERVICES;"
   ]
  },
  {
   "cell_type": "code",
   "execution_count": null,
   "id": "ba8e4cb0-8ee4-45f0-8f1e-a7cd32fccc40",
   "metadata": {
    "collapsed": false,
    "language": "sql",
    "name": "SEMANTIC_MODEL8"
   },
   "outputs": [],
   "source": [
    "-- Test the Cortex Analyst service with an example question\n",
    "SELECT *\n",
    "FROM TABLE(CORTEX_EXPLAIN('INSURANCE_CLAIMS_ANALYST', 'What is the average claim amount by incident type?'));"
   ]
  },
  {
   "cell_type": "markdown",
   "id": "a9b5fa86-70df-489c-a67d-1ca4e2580809",
   "metadata": {
    "collapsed": false,
    "name": "CORTEX_AGENT1"
   },
   "source": [
    "# Setup Cortex Agent\n",
    "\n",
    "Now that we have set up our Cortex Search and Cortex Analyst services, let's create a Cortex Agent that can leverage both services to answer user questions about our insurance data.\n",
    "\n",
    "Cortex Agents use a Claude model by default and can also use Mistral and Llama. They orchestrate multiple services to answer user questions, including both structured and unstructured data sources."
   ]
  },
  {
   "cell_type": "code",
   "execution_count": null,
   "id": "b0d52835-7c6e-4051-8953-0b2903823b8b",
   "metadata": {
    "collapsed": false,
    "language": "sql",
    "name": "CORTEX_AGENT2"
   },
   "outputs": [],
   "source": [
    "-- Create a Cortex Agent that has access to our search and analyst services\n",
    "CREATE OR REPLACE CORTEX AGENT INSURANCE_CLAIMS_AGENT\n",
    "  SERVICE_NAMES = ('POLICY_DOCUMENTS_SEARCH', 'CLAIM_FORMS_SEARCH', 'COVERAGE_TYPE_SEARCH', 'POLICYHOLDER_SEARCH', 'INCIDENT_TYPE_SEARCH', 'INSURANCE_CLAIMS_ANALYST')\n",
    "  EXTERNAL_ACCESS_INTEGRATION = CORTEX_ACCESS\n",
    "  COMPUTE_POOL = CORTEX_COMPUTE\n",
    "  PROMPT = $$\n",
    "  You are an expert insurance claims analyst assistant. You have access to both structured insurance claims data and unstructured documents like policy information and claim forms.\n",
    "  \n",
    "  You should:\n",
    "  - Provide accurate information from both structured data and documents\n",
    "  - Be precise about policy information, deductibles, and claim processes\n",
    "  - When analyzing fraud patterns, focus on statistical insights rather than making accusations\n",
    "  - Maintain a professional, helpful tone\n",
    "  - For complex questions, consider using both the data and documents to provide comprehensive answers\n",
    "  $$;\n",
    "\n",
    "-- Wait for the agent to be ready\n",
    "CALL SYSTEM$WAIT(30);"
   ]
  },
  {
   "cell_type": "code",
   "execution_count": null,
   "id": "d6b42d8b-e33d-4cc7-9d87-08a11de1feda",
   "metadata": {
    "collapsed": false,
    "language": "sql",
    "name": "CORTEX_AGENT3"
   },
   "outputs": [],
   "source": [
    "-- List the cortex agents\n",
    "SHOW CORTEX AGENTS;"
   ]
  },
  {
   "cell_type": "code",
   "execution_count": null,
   "id": "51f6be8d-3de9-443a-b764-45baebdf6f5f",
   "metadata": {
    "collapsed": false,
    "language": "sql",
    "name": "CORTEX_AGENT4"
   },
   "outputs": [],
   "source": [
    "-- Test the agent with a question about policy information\n",
    "SELECT argument, response FROM TABLE(COMPLETE('INSURANCE_CLAIMS_AGENT', 'What are the different coverage types available and their descriptions?'));"
   ]
  },
  {
   "cell_type": "code",
   "execution_count": null,
   "id": "a6aab6a2-d3a0-4a52-86e1-c37ea3e99845",
   "metadata": {
    "collapsed": false,
    "language": "sql",
    "name": "CORTEX_AGENT5"
   },
   "outputs": [],
   "source": [
    "-- Test the agent with a question about claim data\n",
    "SELECT argument, response FROM TABLE(COMPLETE('INSURANCE_CLAIMS_AGENT', 'What is the fraud rate for different incident types?'));"
   ]
  },
  {
   "cell_type": "code",
   "execution_count": null,
   "id": "b2a6f88e-fba2-407c-b9fa-77c649db9c41",
   "metadata": {
    "collapsed": false,
    "language": "sql",
    "name": "CORTEX_AGENT6"
   },
   "outputs": [],
   "source": [
    "-- Test the agent with a question that requires both policy documents and claim data\n",
    "SELECT argument, response FROM TABLE(COMPLETE('INSURANCE_CLAIMS_AGENT', 'What is the deductible for comprehensive coverage and how does it affect claim settlements?'));"
   ]
  },
  {
   "cell_type": "markdown",
   "id": "e2cd4a42-9307-4d3a-984e-e2b49ccb0a3c",
   "metadata": {
    "collapsed": false,
    "name": "FINAL"
   },
   "source": [
    "# Congratulations! \n",
    "\n",
    "You have successfully set up a Cortex Agent that can answer questions about insurance claims using both structured and unstructured data. This agent leverages:\n",
    "\n",
    "1. **Cortex Search Services** for:\n",
    "   - Policy documents and claim forms (unstructured data)\n",
    "   - Coverage types, policyholders, and incident types (structured data literals)\n",
    "\n",
    "2. **Cortex Analyst Service** with:\n",
    "   - A semantic model for insurance claims data\n",
    "   - SQL generation capabilities for complex analytical queries\n",
    "\n",
    "3. **Cortex Agent** that:\n",
    "   - Orchestrates all the services\n",
    "   - Provides natural language responses to user questions\n",
    "   - Combines insights from both structured and unstructured sources\n",
    "\n",
    "You can now use the Streamlit app to interact with this agent and explore the insurance claims data in a more intuitive way."
   ]
  }
 ],
 "metadata": {
  "kernelspec": {
   "display_name": "Python 3 (ipykernel)",
   "language": "python",
   "name": "python3"
  },
  "language_info": {
   "codemirror_mode": {
    "name": "ipython",
    "version": 3
   },
   "file_extension": ".py",
   "mimetype": "text/x-python",
   "name": "python",
   "nbconvert_exporter": "python",
   "pygments_lexer": "ipython3",
   "version": "3.10.12"
  }
 },
 "nbformat": 4,
 "nbformat_minor": 5
}